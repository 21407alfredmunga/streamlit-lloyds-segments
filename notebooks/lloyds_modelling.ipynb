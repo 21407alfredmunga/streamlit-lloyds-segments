{
 "cells": [
  {
   "cell_type": "code",
   "execution_count": 1,
   "metadata": {},
   "outputs": [],
   "source": [
    "import pandas as pd\n",
    "import numpy as np\n",
    "from sklearn.model_selection import train_test_split, GridSearchCV\n",
    "from sklearn.preprocessing import StandardScaler, LabelEncoder\n",
    "from sklearn.ensemble import RandomForestClassifier\n",
    "import seaborn as sns\n",
    "import matplotlib.pyplot as plt\n",
    "import pandas as pd\n",
    "import numpy as np\n",
    "from sklearn.preprocessing import StandardScaler\n",
    "from sklearn.cluster import KMeans\n",
    "import matplotlib.pyplot as plt\n",
    "import seaborn as sns\n"
   ]
  },
  {
   "cell_type": "code",
   "execution_count": 3,
   "metadata": {},
   "outputs": [],
   "source": [
    "df = pd.read_csv('data/Customer_Churn_Data_Large (1).csv')  # Load the data"
   ]
  },
  {
   "cell_type": "code",
   "execution_count": null,
   "metadata": {},
   "outputs": [
    {
     "name": "stdout",
     "output_type": "stream",
     "text": [
      "\n",
      "Cluster Sizes:\n",
      "Cluster\n",
      "0    302\n",
      "3    277\n",
      "2    221\n",
      "1    200\n",
      "Name: count, dtype: int64\n",
      "\n",
      "Cluster Profiles:\n",
      "           Age          Gender MaritalStatus IncomeLevel\n",
      "          mean    std <lambda>      <lambda>    <lambda>\n",
      "Cluster                                                 \n",
      "0        43.26  14.92        M       Married        High\n",
      "1        41.76  15.28        M      Divorced         Low\n",
      "2        43.32  14.98        F       Widowed         Low\n",
      "3        44.31  15.75        M      Divorced      Medium\n"
     ]
    }
   ],
   "source": [
    "\n",
    "\n",
    "# Prepare features\n",
    "# Convert categorical variables to numeric\n",
    "df_encoded = pd.get_dummies(df, columns=['Gender', 'MaritalStatus', 'IncomeLevel'])\n",
    "X = df_encoded.drop('CustomerID', axis=1)\n",
    "\n",
    "# Scale the features\n",
    "scaler = StandardScaler()\n",
    "X_scaled = scaler.fit_transform(X)\n",
    "\n",
    "# Determine optimal number of clusters using elbow method\n",
    "inertias = []\n",
    "K = range(1, 10)\n",
    "for k in K:\n",
    "    kmeans = KMeans(n_clusters=k, random_state=42)\n",
    "    kmeans.fit(X_scaled)\n",
    "    inertias.append(kmeans.inertia_)\n",
    "\n",
    "# Plot elbow curve\n",
    "plt.figure(figsize=(10, 6))\n",
    "plt.plot(K, inertias, 'bx-')\n",
    "plt.xlabel('k')\n",
    "plt.ylabel('Inertia')\n",
    "plt.title('Elbow Method For Optimal k')\n",
    "plt.savefig('elbow_curve.png')\n",
    "plt.close()\n",
    "\n",
    "# Train final model with optimal k=4\n",
    "kmeans = KMeans(n_clusters=4, random_state=42)\n",
    "df['Cluster'] = kmeans.fit_predict(X_scaled)\n",
    "Plot elbow curve\n",
    "plt.figure(figsize=(10, 6))\n",
    "plt.plot(K, inertias, 'bx-')\n",
    "plt.xlabel('k')\n",
    "plt.ylabel('Inertia')\n",
    "plt.title('Elbow Method For Optimal k')\n",
    "plt.savefig('elbow_curve.png')\n",
    "plt.close()\n",
    "\n",
    "# Train final model with optimal k=4\n",
    "kmeans = KMeans(n_clusters=4, random_state=42)\n",
    "df['Cluster'] = kmeans.fit_predict(X_scaled)\n",
    "\n",
    "# Analyze clusters\n",
    "print(\"\\nCluster Sizes:\")\n",
    "print(df['Cluster'].value_counts())\n",
    "\n",
    "# Analyze clusters\n",
    "print(\"\\nCluster Sizes:\")\n",
    "print(df['Cluster'].value_counts())\n",
    "\n",
    "# Visualize age distribution across clusters\n",
    "plt.figure(figsize=(12, 6))\n",
    "sns.boxplot(x='Cluster', y='Age', data=df)\n",
    "plt.title('Age Distribution by Cluster')\n",
    "plt.savefig('cluster_age_distribution.png')\n",
    "plt.close()\n",
    "\n",
    "# Create cluster profile summary\n",
    "cluster_profile = df.groupby('Cluster').agg({\n",
    "    'Age': ['mean', 'std'],\n",
    "    'Gender': lambda x: x.mode()[0],\n",
    "    'MaritalStatus': lambda x: x.mode()[0],\n",
    "    'IncomeLevel': lambda x: x.mode()[0]\n",
    "}).round(2)\n",
    "\n",
    "print(\"\\nCluster Profiles:\")\n",
    "print(cluster_profile)\n",
    "\n",
    "# Save results\n",
    "df.to_csv('customer_segments.csv', index=False)"
   ]
  }
 ],
 "metadata": {
  "kernelspec": {
   "display_name": "datascience_env",
   "language": "python",
   "name": "python3"
  },
  "language_info": {
   "codemirror_mode": {
    "name": "ipython",
    "version": 3
   },
   "file_extension": ".py",
   "mimetype": "text/x-python",
   "name": "python",
   "nbconvert_exporter": "python",
   "pygments_lexer": "ipython3",
   "version": "3.9.7"
  }
 },
 "nbformat": 4,
 "nbformat_minor": 2
}
